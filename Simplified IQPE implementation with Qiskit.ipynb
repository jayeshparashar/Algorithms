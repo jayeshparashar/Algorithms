{
 "cells": [
  {
   "cell_type": "code",
   "execution_count": 18,
   "metadata": {},
   "outputs": [],
   "source": [
    "from qiskit import BasicAer, execute, QuantumCircuit, QuantumRegister, ClassicalRegister\n",
    "import numpy as np\n",
    "from math import pi, sqrt, exp"
   ]
  },
  {
   "cell_type": "markdown",
   "metadata": {},
   "source": [
    "Similar to QPE in IQPE (Iterative quantum phase estimation) also estimate the phase (and hence eigenvalue) introduced by a unitray when it is applied to its eigenvector, however in QPE we use multiple qubits to measure phase and apply the differnt powers of unitary to same eigenvector from different measuring qubit which acts as control, the powers of eigenvalues are then kickbakced to control qubit. \n",
    "\n",
    "in IQPE however we use single qubit as control and try to measure a component of eigenvalue by rotating and adjusting phase in each iteration .        "
   ]
  },
  {
   "cell_type": "code",
   "execution_count": 19,
   "metadata": {},
   "outputs": [],
   "source": [
    "# This function will take a phase factor theta (value between 0 to 1) as input and will return a control unitary\n",
    "# gate that, when applied to the eignevector (|1> in this case) will kickback an eigenvalue of\n",
    "# e^2pi*phs_factor to control qubit,  when the  eigenvalue is unknown, it can be found with the phase estimation \n",
    "def Control_phase_gate(phs_factor):\n",
    "    phase = phs_factor*(2*pi)\n",
    "    qc1 = QuantumCircuit(2)\n",
    "    qc1.cp(phase,0,1)\n",
    "    CU_q = qc1.to_gate()\n",
    "    return CU_q"
   ]
  },
  {
   "cell_type": "code",
   "execution_count": 20,
   "metadata": {},
   "outputs": [],
   "source": [
    "def get_bits(m_CU, phs_adjust) :\n",
    "    qr_control = QuantumRegister(1,'control')\n",
    "    qr_target = QuantumRegister(1,'target')\n",
    "    cr_measure = ClassicalRegister(1,'meas_control')\n",
    "    qc = QuantumCircuit(qr_control, qr_target, cr_measure)\n",
    "        \n",
    "    qc.h(0)\n",
    "    qc.x(1)\n",
    "    qc.append(m_CU, [0,1])\n",
    "    qc.p(phs_adjust, qr_control[0])\n",
    "    qc.h(0)\n",
    "    qc.measure(qr_control, cr_measure)\n",
    "    \n",
    "    bkend = BasicAer.get_backend('qasm_simulator')\n",
    "    job =  execute(qc, bkend, shots=100)\n",
    "    cnts = job.result().get_counts()\n",
    "#    print(cnts)\n",
    "    max_val = max(cnts, key=cnts.get)\n",
    "    max_val_dec = int(max_val, 2)\n",
    "\n",
    "    return max_val_dec"
   ]
  },
  {
   "cell_type": "markdown",
   "metadata": {},
   "source": [
    "Lets try to measure theta of 1/12 = 30 degrees, set iteration itr = 12 "
   ]
  },
  {
   "cell_type": "code",
   "execution_count": 39,
   "metadata": {},
   "outputs": [
    {
     "name": "stdout",
     "output_type": "stream",
     "text": [
      "0.083251953125\n",
      "0\n",
      "0\n",
      "0\n",
      "1\n",
      "0\n",
      "1\n",
      "0\n",
      "1\n",
      "0\n",
      "1\n",
      "0\n",
      "1\n"
     ]
    }
   ],
   "source": [
    "itr=12\n",
    "theta_factor = 1/12 # phase angle of 30 degree\n",
    "CU = Control_phase_gate(theta_factor)   # set the unitary\n",
    "\n",
    "phase_adjust = 0\n",
    "last_bit = 0\n",
    "bit_reg = []\n",
    "factor  = 0\n",
    "\n",
    "for i in range(itr) :\n",
    "    m_CU = CU.power(2**(itr-1-i))\n",
    "    phase_adjust = 0\n",
    "    for j in range(i):\n",
    "        phase_adjust += 2*pi*(bit_reg[j]/2**(1 + i - j)) * -1\n",
    "    bit_val = get_bits(m_CU, phase_adjust)\n",
    "    bit_reg.append(bit_val)\n",
    "    factor += bit_val/2**(itr-i)\n",
    "\n",
    "print(factor)\n",
    "for w in reversed(bit_reg):\n",
    "    print(w),"
   ]
  },
  {
   "cell_type": "code",
   "execution_count": 40,
   "metadata": {},
   "outputs": [
    {
     "name": "stdout",
     "output_type": "stream",
     "text": [
      " angle value in radian and degrees 0.5230874486690036 29.815984574133203\n"
     ]
    }
   ],
   "source": [
    "# get the value in decimal and calculate the angle\n",
    "angle = factor * 2 * pi\n",
    "print(' angle value in radian and degrees' , angle, angle * 57)\n"
   ]
  },
  {
   "cell_type": "code",
   "execution_count": null,
   "metadata": {},
   "outputs": [],
   "source": []
  }
 ],
 "metadata": {
  "kernelspec": {
   "display_name": "Python 3",
   "language": "python",
   "name": "python3"
  },
  "language_info": {
   "codemirror_mode": {
    "name": "ipython",
    "version": 3
   },
   "file_extension": ".py",
   "mimetype": "text/x-python",
   "name": "python",
   "nbconvert_exporter": "python",
   "pygments_lexer": "ipython3",
   "version": "3.8.5"
  }
 },
 "nbformat": 4,
 "nbformat_minor": 4
}
