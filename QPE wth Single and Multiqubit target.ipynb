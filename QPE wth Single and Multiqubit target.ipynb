{
 "cells": [
  {
   "cell_type": "code",
   "execution_count": 11,
   "metadata": {},
   "outputs": [],
   "source": [
    "from qiskit import Aer, execute, QuantumCircuit, QuantumRegister, ClassicalRegister\n",
    "from qiskit.visualization import plot_bloch_multivector, plot_histogram\n",
    "from qiskit.quantum_info.operators import Operator, Pauli\n",
    "from qiskit.extensions import UnitaryGate\n",
    "from qiskit.quantum_info import Statevector\n",
    "import numpy as np\n",
    "from math import pi, sqrt, exp"
   ]
  },
  {
   "cell_type": "code",
   "execution_count": 12,
   "metadata": {},
   "outputs": [],
   "source": [
    "def qft_inverse(qc, n):\n",
    "    # Use swap only when qpe is setting  least significant qubit q0 with CU^(2^0) and nth qubit with CU^(2^(n-1))\n",
    "    # as the iqft expect the information coded in phase basis in reverse order \n",
    "    for qubit in range(n//2):\n",
    "        qc.swap(qubit, n-qubit-1)\n",
    "    # perform inverse QFT to extract the information coded in phase basis and to measure it in computational basis  \n",
    "    for j in range(n):\n",
    "        for m in range(j):\n",
    "            qc.cp(-math.pi/float(2**(j-m)), m, j)\n",
    "        qc.h(j)"
   ]
  },
  {
   "cell_type": "code",
   "execution_count": 13,
   "metadata": {},
   "outputs": [],
   "source": [
    "# This function will take the phase factor theta (value between 0 to 1) as input and will return a control gate \n",
    "# (unitary operator) that, when applied to the eignevector (|1> in this case) will kickback an eigenvalue of\n",
    "# e^2pi*phs_factor to control qubit,  when the  eigenvalue is unknown, it can be found with the phase estimation \n",
    "def phase_gate(phs_factor):\n",
    "    phase = phs_factor*(2*pi)\n",
    "    qc1 = QuantumCircuit(2)\n",
    "    qc1.cp(phase,0,1)\n",
    "    CU_q = qc1.to_gate()\n",
    "    return CU_q"
   ]
  },
  {
   "cell_type": "code",
   "execution_count": 14,
   "metadata": {},
   "outputs": [],
   "source": [
    "def qpe_qiskit(control, target, circuit,CU):\n",
    "\n",
    "    N = control.size\n",
    "    \n",
    "    #Apply Hadamard to all control qubits\n",
    "    circuit.h(control)\n",
    "   \n",
    "    #Apply CU gates with various controls qubits \n",
    "    for i in range(N):\n",
    "        CUi = CU.power(2**i)\n",
    "        # swap will be needed in inverse qft circuit as this line of code in qpe circuit will set least significant \n",
    "        # qubit with CU^2 and most significant with CU^(2^(N-1)   \n",
    "        circuit.append(CUi, [i,target]) # swap will be needed in inverse qft circuit as this line of code in qpe will set  \n",
    "        # Comment the swap section in QFT inverse if you prefer the to do qpe in reveesed order, the line of code below will\n",
    "        # set the most significant qubit with CU^2 and the least significant ubit with CU^(2^(N-1)\n",
    "        # circuit.append(CUi, [control[control.size-i-1],target])"
   ]
  },
  {
   "cell_type": "code",
   "execution_count": 30,
   "metadata": {},
   "outputs": [
    {
     "name": "stdout",
     "output_type": "stream",
     "text": [
      "{'00010101': 1, '00010110': 1, '00010111': 1, '00011000': 2, '00011001': 19, '00011010': 68, '00011011': 4, '00011100': 1, '00011101': 1, '10011100': 1, '11000101': 1}\n"
     ]
    }
   ],
   "source": [
    "# Run qpe for on a single qubit target  \n",
    "t=8 #Number of qubits in the control register\n",
    "n=1 #Number of qubits in the register storing eigenvector\n",
    "\n",
    "theta_factor = 1/10 # phase angle of 45 degree\n",
    "CU = phase_gate(theta_factor)   # get the unitary\n",
    "\n",
    "qr_control = QuantumRegister(t,'control')\n",
    "qr_target = QuantumRegister(n,'target')\n",
    "cr_control = ClassicalRegister(t,'meas_control')\n",
    "\n",
    "qcr = QuantumCircuit(qr_control, qr_target, cr_control)\n",
    "qcr.x(qr_target)   #Set target qubit to state |1> or the eignevector\n",
    "\n",
    "#Apply single target QPE\n",
    "qpe_qiskit(qr_control, qr_target, qcr,CU)\n",
    "\n",
    "qcr.barrier(); qft_inverse(qcr, t); qcr.barrier()\n",
    "\n",
    "# take measurement\n",
    "qcr.measure(range(t),range(t))\n",
    "# runt the circuit shots times\n",
    "bkend = Aer.get_backend('qasm_simulator')\n",
    "# collect and print the results\n",
    "cnts =  execute(qcr, bkend,shots=100).result().get_counts()\n",
    "print(cnts)"
   ]
  },
  {
   "cell_type": "code",
   "execution_count": 31,
   "metadata": {},
   "outputs": [
    {
     "name": "stdout",
     "output_type": "stream",
     "text": [
      " decimal value of output is 26\n",
      "Given phase of unitray is  0.6283185307179586  radians and  36.0 degrees\n",
      "estimated phase of unitray is  0.6381360077604268  radians and  36.5625 degrees\n"
     ]
    }
   ],
   "source": [
    "#what we have measured is the portion of a circle and the factor is the portion/total_values = val/2^N \n",
    "# translate the value of phase in decimal \n",
    "max_val = max(cnts, key=cnts.get)\n",
    "max_val_dec = int(max_val, 2)\n",
    "rad = max_val_dec * (1/2**t)*2*pi\n",
    "print(' decimal value of output is', max_val_dec)\n",
    "given_rad = theta_factor*2*pi\n",
    "print('Given phase of unitray is ', given_rad , ' radians and ', math.degrees(given_rad), 'degrees')\n",
    "print('estimated phase of unitray is ', rad , ' radians and ', math.degrees(rad), 'degrees')"
   ]
  },
  {
   "cell_type": "code",
   "execution_count": null,
   "metadata": {},
   "outputs": [],
   "source": [
    "# Run QPE for a single qubit target register\n",
    "t=6 #Number of qubits in the control register\n",
    "n=2 #Number of qubits in the register storing eigenvector\n",
    "\n",
    "theta = 1/8 # phase angle of 45 degree\n",
    "C_Ux = phase_gate_multitarget(theta, n)\n",
    "#C_Ux = mqpcg(theta,n) # without using control for target = 2\n",
    "qr_control = QuantumRegister(t,'control')\n",
    "qr_target = QuantumRegister(n,'target')\n",
    "cr_control = ClassicalRegister(t,'meas_control')\n",
    "\n",
    "qcr = QuantumCircuit(qr_control, qr_target, cr_control)\n",
    "#Set target qubit to state |11> \n",
    "qcr.x(qr_target)\n",
    "\n",
    "#Apply QPE \n",
    "qpe_qiskit_multi(t,qr_control, qr_target, qcr, C_Ux)\n",
    "\n",
    "qcr.barrier()\n",
    "# Apply inverse QFT\n",
    "qft_inverse(qcr, t)\n",
    "# Measure\n",
    "qcr.barrier()\n",
    "qcr.measure(range(t),range(t))\n",
    "bkend = Aer.get_backend('qasm_simulator')\n",
    "cnts =  execute(qcr,bkend,shots=100).result().get_counts()\n",
    "qcr.draw()"
   ]
  },
  {
   "cell_type": "code",
   "execution_count": 39,
   "metadata": {},
   "outputs": [],
   "source": [
    "def phase_gate_multitarget(phs_factor, target_cnt):\n",
    "\n",
    "    phase = phs_factor*(2*pi)\n",
    "\n",
    "    # Earlier used cirtcuit to create gates but it is not creating unitary properly hence used operator\n",
    "    #    qc1 = QuantumCircuit(target_cnt)  \n",
    "    k = 2**target_cnt\n",
    "    u = np.zeros([k, k], dtype = complex) \n",
    "\n",
    "    # set the diagonal elements to ones\n",
    "    for i in range(k):\n",
    "        u[i][i] = 1\n",
    "\n",
    "    # set the last element as e^2pi*theta (phase)\n",
    "    u[k-1][k-1] = np.exp(1.j*phase)\n",
    "    \n",
    "    m_CU = Operator(u)\n",
    "    m_gate = UnitaryGate(m_CU, 'CU_g')\n",
    "    \n",
    "    # add control to make it multitarget control unitary that can operate on state |psi>\n",
    "    mc_gate = m_gate.control() \n",
    "\n",
    "    return mc_gate"
   ]
  },
  {
   "cell_type": "code",
   "execution_count": 40,
   "metadata": {},
   "outputs": [],
   "source": [
    "# define qpe for multiqubit target register \n",
    "def qpe_qiskit_multi(control, target, circuit, CU):\n",
    "\n",
    "    N = control.size\n",
    "    #Apply Hadamard to all control qubits\n",
    "    circuit.h(control)\n",
    "   \n",
    "    #Apply CU gates with various controls qubits \n",
    "    for i in range(N):\n",
    "        CUi = CU.power(2**i)\n",
    "        ar=[]\n",
    "        ar.append(i)\n",
    "        ar.extend(range(N, N+target.size))\n",
    "    # enable swap if you use the below line of code to correct the order of inverse QFT\n",
    "        circuit.append(CUi, ar)\n",
    "\n",
    "    # uncomment below line if qn (most significant bit) is set to CU^1 (least significant value of \n",
    "    # phase factor encoded in fourier basis) in this case a swap is not required in iqft    \n",
    "    # circuit.append(CUi, [control.size-i-1],ar) # adjust ar to set the control bit"
   ]
  },
  {
   "cell_type": "code",
   "execution_count": 48,
   "metadata": {},
   "outputs": [
    {
     "name": "stdout",
     "output_type": "stream",
     "text": [
      "{'0000000000': 1, '0000010001': 1, '0000010010': 4, '0000010011': 3, '0000010100': 48, '0000010101': 31, '0000010110': 3, '0000010111': 3, '0000011010': 1, '0000011011': 1, '0000011100': 1, '0000100010': 1, '0000100111': 1, '0000111110': 1}\n"
     ]
    }
   ],
   "source": [
    "# Rune qpe for  multiqubit target the unitary will dd phase on on statevector |11...>\n",
    "\n",
    "t=10 #Number of qubits in the control register\n",
    "n=2 #Number of qubits in the register storing eigenvector\n",
    "theta_factor = 1/50 # phase angle of 45 degree\n",
    "C_Ux = phase_gate_multitarget(theta_factor, n)\n",
    "\n",
    "#C_Ux = mqpcg(theta,n) # without using control for target = 2\n",
    "qr_control = QuantumRegister(t,'control')\n",
    "qr_target = QuantumRegister(n,'target')\n",
    "cr_control = ClassicalRegister(t,'meas_control')\n",
    "\n",
    "qcr = QuantumCircuit(qr_control, qr_target, cr_control)\n",
    "\n",
    "#Set target qubit to eigenstate |11..n> \n",
    "qcr.x(qr_target)\n",
    "\n",
    "#Apply QPE \n",
    "qpe_qiskit_multi(qr_control, qr_target, qcr, C_Ux)\n",
    "\n",
    "qcr.barrier()\n",
    "# call inverse qft \n",
    "qft_inverse(qcr, t)\n",
    "qcr.barrier()\n",
    "\n",
    "# take measurement \n",
    "qcr.measure(range(t),range(t))\n",
    "bkend = Aer.get_backend('qasm_simulator')\n",
    "cnts =  execute(qcr,bkend,shots=100).result().get_counts()\n",
    "print(cnts)\n"
   ]
  },
  {
   "cell_type": "code",
   "execution_count": 49,
   "metadata": {},
   "outputs": [
    {
     "name": "stdout",
     "output_type": "stream",
     "text": [
      " decimal value of output is 20\n",
      "Given phase of unitray is  0.12566370614359174  radians and  7.2 degrees\n",
      "estimated phase of unitray is  0.1227184630308513  radians and  7.03125 degrees\n"
     ]
    }
   ],
   "source": [
    "#what we have measured is the portion of a circle and the factor is the portion/total_values = val/2^N \n",
    "# translate the value of phase in decimal \n",
    "max_val = max(cnts, key=cnts.get)\n",
    "max_val_dec = int(max_val, 2)\n",
    "rad = max_val_dec * (1/2**t)*2*pi\n",
    "print(' decimal value of output is', max_val_dec)\n",
    "given_rad = theta_factor*2*pi\n",
    "print('Given phase of unitray is ', given_rad , ' radians and ', math.degrees(given_rad), 'degrees')\n",
    "print('estimated phase of unitray is ', rad , ' radians and ', math.degrees(rad), 'degrees')"
   ]
  },
  {
   "cell_type": "code",
   "execution_count": null,
   "metadata": {},
   "outputs": [],
   "source": []
  }
 ],
 "metadata": {
  "kernelspec": {
   "display_name": "Python 3",
   "language": "python",
   "name": "python3"
  },
  "language_info": {
   "codemirror_mode": {
    "name": "ipython",
    "version": 3
   },
   "file_extension": ".py",
   "mimetype": "text/x-python",
   "name": "python",
   "nbconvert_exporter": "python",
   "pygments_lexer": "ipython3",
   "version": "3.8.5"
  }
 },
 "nbformat": 4,
 "nbformat_minor": 4
}
